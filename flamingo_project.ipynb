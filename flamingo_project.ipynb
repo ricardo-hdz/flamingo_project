{
 "cells": [
  {
   "cell_type": "code",
   "execution_count": 177,
   "metadata": {},
   "outputs": [],
   "source": [
    "import pandas as pd\n",
    "import matplotlib.pyplot as plt\n",
    "import numpy as np\n",
    "\n",
    "%matplotlib inline"
   ]
  },
  {
   "cell_type": "markdown",
   "metadata": {},
   "source": [
    "### Rent & Buy Price Values"
   ]
  },
  {
   "cell_type": "code",
   "execution_count": 218,
   "metadata": {},
   "outputs": [],
   "source": [
    "def process_rent(city, inputFile, outputFile):\n",
    "    df_rent = pd.read_csv(inputFile)\n",
    "    df_rent = df_rent[df_rent.Metro.str.contains(city, case=False, na=False)]\n",
    "    df_rent = df_rent.rename(index=str, columns={'RegionName':'zipcode', 'City':'city','State':'state','Metro':'metro','CountyName':'county'})\n",
    "    df_rent.reset_index(drop=True, inplace=True)\n",
    "    df_rent.drop(['SizeRank'], axis=1, inplace=True)\n",
    "    df_rent.to_csv(outputFile, index=False)"
   ]
  },
  {
   "cell_type": "code",
   "execution_count": 219,
   "metadata": {
    "collapsed": true
   },
   "outputs": [],
   "source": [
    "city = 'miami'\n",
    "rent_files = [\n",
    "    'datasets/Zip_MedianRentalPrice_1Bedroom.csv',\n",
    "    'datasets/Zip_MedianRentalPricePerSqft_1Bedroom.csv',\n",
    "    \n",
    "    'datasets/Zip_MedianListingPrice_AllHomes.csv',\n",
    "    'datasets/Zip_MedianListingPricePerSqft_AllHomes.csv',\n",
    "\n",
    "    'datasets/Zip_MedianRentalPrice_2Bedroom.csv',\n",
    "    'datasets/Zip_MedianRentalPricePerSqft_2Bedroom.csv',\n",
    "    \n",
    "    'datasets/Zip_MedianRentalPrice_SingleFamiliar.csv',\n",
    "    'datasets/Zip_MedianRentalPricePerSqft_SingleFamiliar.csv',\n",
    "    \n",
    "    'datasets/Zip_PriceToRentRatio_AllHomes.csv'\n",
    "]\n",
    "output_rent_files = [\n",
    "    'rent_1BR_' + city + '_total.csv',\n",
    "    'rent_1BR_' + city + '_sqft.csv',\n",
    "\n",
    "    'buy_home_' + city + '.csv',\n",
    "    'buy_home_' + city + '_sqft.csv',\n",
    "    \n",
    "    'rent_2BR_' + city + '_total.csv',\n",
    "    'rent_2BR_' + city + '_sqft.csv',\n",
    "    \n",
    "    'rent_SF_' + city + '_total.csv',\n",
    "    'rent_SF_' + city + '_sqft.csv',\n",
    "    \n",
    "    'indicators_price_rent_ratio.csv'\n",
    "]"
   ]
  },
  {
   "cell_type": "markdown",
   "metadata": {},
   "source": [
    "### Indicators"
   ]
  },
  {
   "cell_type": "code",
   "execution_count": 220,
   "metadata": {
    "collapsed": true
   },
   "outputs": [],
   "source": [
    "city = 'miami'\n",
    "indicator_files = [\n",
    "    'datasets/Affordability_Income_2017Q4.csv',\n",
    "    'datasets/Affordability_Wide_2017Q4_Public.csv',\n",
    "    'datasets/BreakEven_PR_2018-032.csv',\n",
    "    'datasets/home_forecast.csv',\n",
    "    'datasets/rent_forecast.csv'\n",
    "]\n",
    "output_indicator_files = [\n",
    "    'indicators_affordability_income_' + city + '.csv',\n",
    "    'indicators_affordability_wide_' + city + '.csv',\n",
    "    'indicators_breakeven_rate.csv',\n",
    "    'indicators_home_forecast.csv',\n",
    "    'indicators_rent_forecast.csv',\n",
    "]"
   ]
  },
  {
   "cell_type": "code",
   "execution_count": 221,
   "metadata": {
    "collapsed": true
   },
   "outputs": [],
   "source": [
    "def process_indicators(city, inputFile, outputFile):\n",
    "    df = pd.read_csv(inputFile)\n",
    "    df = df[df.RegionName.str.contains(city, case=False, na=False)]\n",
    "    df = df.rename(index=str, columns={'RegionID':'zipcode','RegionName':'city'})\n",
    "    df.reset_index(drop=True, inplace=True)\n",
    "    df.to_csv(outputFile, index=False)"
   ]
  },
  {
   "cell_type": "code",
   "execution_count": 222,
   "metadata": {
    "collapsed": true
   },
   "outputs": [],
   "source": [
    "def processDatasets():\n",
    "    for i in range(0,len(rent_files)):\n",
    "        process_rent(city, rent_files[i], output_rent_files[i])\n",
    "    for i in range(0,len(indicator_files)):\n",
    "        process_indicators(city, indicator_files[i], output_indicator_files[i])"
   ]
  },
  {
   "cell_type": "code",
   "execution_count": 223,
   "metadata": {},
   "outputs": [],
   "source": [
    "processDatasets()"
   ]
  },
  {
   "cell_type": "markdown",
   "metadata": {},
   "source": [
    "## Clean"
   ]
  },
  {
   "cell_type": "code",
   "execution_count": 262,
   "metadata": {
    "collapsed": true
   },
   "outputs": [],
   "source": [
    "rent_home_files = {\n",
    "#     'rent_1BR_miami_sqft':'rent_1br_sqft',\n",
    "    'rent_1BR_miami_total':'rent_1br_monthly',\n",
    "    'rent_2BR_miami_sqft':'rent_2br_sqft',\n",
    "    'rent_2BR_miami_total':'rent_2br_monthly',\n",
    "    'rent_SF_miami_sqft':'rent_sf_sqft',\n",
    "    'rent_SF_miami_total':'rent_sf_monthly',\n",
    "    'buy_home_miami':'buy_home',\n",
    "    'buy_home_miami_sqft':'buy_home_sqft'\n",
    "}"
   ]
  },
  {
   "cell_type": "code",
   "execution_count": 240,
   "metadata": {},
   "outputs": [
    {
     "data": {
      "text/html": [
       "<div>\n",
       "<table border=\"1\" class=\"dataframe\">\n",
       "  <thead>\n",
       "    <tr style=\"text-align: right;\">\n",
       "      <th></th>\n",
       "      <th>zipcode</th>\n",
       "      <th>city</th>\n",
       "      <th>state</th>\n",
       "      <th>metro</th>\n",
       "      <th>county</th>\n",
       "      <th>2010-02</th>\n",
       "      <th>2010-03</th>\n",
       "      <th>2010-04</th>\n",
       "      <th>2010-05</th>\n",
       "      <th>2010-06</th>\n",
       "      <th>...</th>\n",
       "      <th>2017-06</th>\n",
       "      <th>2017-07</th>\n",
       "      <th>2017-08</th>\n",
       "      <th>2017-09</th>\n",
       "      <th>2017-10</th>\n",
       "      <th>2017-11</th>\n",
       "      <th>2017-12</th>\n",
       "      <th>2018-01</th>\n",
       "      <th>2018-02</th>\n",
       "      <th>2018-03</th>\n",
       "    </tr>\n",
       "  </thead>\n",
       "  <tbody>\n",
       "    <tr>\n",
       "      <th>0</th>\n",
       "      <td>33160</td>\n",
       "      <td>Sunny Isles Beach</td>\n",
       "      <td>FL</td>\n",
       "      <td>Miami-Fort Lauderdale</td>\n",
       "      <td>Miami-Dade</td>\n",
       "      <td>NaN</td>\n",
       "      <td>NaN</td>\n",
       "      <td>NaN</td>\n",
       "      <td>NaN</td>\n",
       "      <td>NaN</td>\n",
       "      <td>...</td>\n",
       "      <td>1.935484</td>\n",
       "      <td>1.940135</td>\n",
       "      <td>2.013889</td>\n",
       "      <td>1.990050</td>\n",
       "      <td>1.870954</td>\n",
       "      <td>1.891074</td>\n",
       "      <td>1.847763</td>\n",
       "      <td>1.892116</td>\n",
       "      <td>1.890482</td>\n",
       "      <td>1.899758</td>\n",
       "    </tr>\n",
       "    <tr>\n",
       "      <th>1</th>\n",
       "      <td>33025</td>\n",
       "      <td>Miramar</td>\n",
       "      <td>FL</td>\n",
       "      <td>Miami-Fort Lauderdale</td>\n",
       "      <td>Broward</td>\n",
       "      <td>NaN</td>\n",
       "      <td>NaN</td>\n",
       "      <td>NaN</td>\n",
       "      <td>NaN</td>\n",
       "      <td>NaN</td>\n",
       "      <td>...</td>\n",
       "      <td>1.764706</td>\n",
       "      <td>1.805673</td>\n",
       "      <td>1.761038</td>\n",
       "      <td>1.789067</td>\n",
       "      <td>1.826972</td>\n",
       "      <td>1.737500</td>\n",
       "      <td>1.751011</td>\n",
       "      <td>1.794315</td>\n",
       "      <td>1.818889</td>\n",
       "      <td>1.889313</td>\n",
       "    </tr>\n",
       "  </tbody>\n",
       "</table>\n",
       "<p>2 rows × 103 columns</p>\n",
       "</div>"
      ],
      "text/plain": [
       "   zipcode               city state                  metro      county  \\\n",
       "0    33160  Sunny Isles Beach    FL  Miami-Fort Lauderdale  Miami-Dade   \n",
       "1    33025            Miramar    FL  Miami-Fort Lauderdale     Broward   \n",
       "\n",
       "   2010-02  2010-03  2010-04  2010-05  2010-06    ...      2017-06   2017-07  \\\n",
       "0      NaN      NaN      NaN      NaN      NaN    ...     1.935484  1.940135   \n",
       "1      NaN      NaN      NaN      NaN      NaN    ...     1.764706  1.805673   \n",
       "\n",
       "    2017-08   2017-09   2017-10   2017-11   2017-12   2018-01   2018-02  \\\n",
       "0  2.013889  1.990050  1.870954  1.891074  1.847763  1.892116  1.890482   \n",
       "1  1.761038  1.789067  1.826972  1.737500  1.751011  1.794315  1.818889   \n",
       "\n",
       "    2018-03  \n",
       "0  1.899758  \n",
       "1  1.889313  \n",
       "\n",
       "[2 rows x 103 columns]"
      ]
     },
     "execution_count": 240,
     "metadata": {},
     "output_type": "execute_result"
    }
   ],
   "source": [
    "df_rent1br_s.head(2)"
   ]
  },
  {
   "cell_type": "markdown",
   "metadata": {},
   "source": [
    "### Rent & Home Data Issues\n",
    "1. Drop historical data, leave just last value\n",
    "2. Add column to identify value (price_rent, price_rent_sqrt)\n",
    "3. Combine values in single dataset"
   ]
  },
  {
   "cell_type": "code",
   "execution_count": 259,
   "metadata": {},
   "outputs": [],
   "source": [
    "def cleanRentHomeData(file, indicator):\n",
    "    df = pd.read_csv(file + '.csv')\n",
    "    df_clean = df.iloc[:,:5]\n",
    "    df_clean[indicator] = df.iloc[:,-1:]\n",
    "    return df_clean\n",
    "#     df_clean.to_csv(file + '.csv', index=False)"
   ]
  },
  {
   "cell_type": "code",
   "execution_count": 267,
   "metadata": {},
   "outputs": [],
   "source": [
    "df_clean = cleanRentHomeData('rent_1BR_miami_sqft','rent_1br_sqft')\n",
    "for k, v in rent_home_files.items():\n",
    "    df_n = cleanRentHomeData(k,v)\n",
    "    df_clean = df_clean.merge(df_n, how='outer',on=['zipcode','city','state','metro','county'])"
   ]
  },
  {
   "cell_type": "code",
   "execution_count": 273,
   "metadata": {},
   "outputs": [
    {
     "name": "stderr",
     "output_type": "stream",
     "text": [
      "/Users/rhernande/anaconda3/lib/python3.6/site-packages/numpy/lib/function_base.py:4274: RuntimeWarning: Invalid value encountered in percentile\n",
      "  interpolation=interpolation)\n"
     ]
    },
    {
     "data": {
      "text/html": [
       "<div>\n",
       "<table border=\"1\" class=\"dataframe\">\n",
       "  <thead>\n",
       "    <tr style=\"text-align: right;\">\n",
       "      <th></th>\n",
       "      <th>zipcode</th>\n",
       "      <th>rent_1br_sqft</th>\n",
       "      <th>rent_1br_monthly</th>\n",
       "      <th>rent_2br_sqft</th>\n",
       "      <th>rent_2br_monthly</th>\n",
       "      <th>rent_sf_sqft</th>\n",
       "      <th>rent_sf_monthly</th>\n",
       "      <th>buy_home</th>\n",
       "      <th>buy_home_sqft</th>\n",
       "    </tr>\n",
       "  </thead>\n",
       "  <tbody>\n",
       "    <tr>\n",
       "      <th>count</th>\n",
       "      <td>176.000000</td>\n",
       "      <td>72.000000</td>\n",
       "      <td>76.000000</td>\n",
       "      <td>118.000000</td>\n",
       "      <td>119.000000</td>\n",
       "      <td>128.000000</td>\n",
       "      <td>115.000000</td>\n",
       "      <td>1.670000e+02</td>\n",
       "      <td>176.000000</td>\n",
       "    </tr>\n",
       "    <tr>\n",
       "      <th>mean</th>\n",
       "      <td>33470.732955</td>\n",
       "      <td>1.951816</td>\n",
       "      <td>1431.190789</td>\n",
       "      <td>1.657346</td>\n",
       "      <td>1796.764706</td>\n",
       "      <td>1.524956</td>\n",
       "      <td>2294.956522</td>\n",
       "      <td>4.026794e+05</td>\n",
       "      <td>234.769157</td>\n",
       "    </tr>\n",
       "    <tr>\n",
       "      <th>std</th>\n",
       "      <td>3103.291020</td>\n",
       "      <td>0.396685</td>\n",
       "      <td>305.964289</td>\n",
       "      <td>0.380903</td>\n",
       "      <td>531.843467</td>\n",
       "      <td>0.598452</td>\n",
       "      <td>593.186764</td>\n",
       "      <td>3.058902e+05</td>\n",
       "      <td>131.114387</td>\n",
       "    </tr>\n",
       "    <tr>\n",
       "      <th>min</th>\n",
       "      <td>33004.000000</td>\n",
       "      <td>1.314307</td>\n",
       "      <td>900.000000</td>\n",
       "      <td>1.142920</td>\n",
       "      <td>1200.000000</td>\n",
       "      <td>0.988024</td>\n",
       "      <td>1500.000000</td>\n",
       "      <td>6.795000e+04</td>\n",
       "      <td>62.418652</td>\n",
       "    </tr>\n",
       "    <tr>\n",
       "      <th>25%</th>\n",
       "      <td>33128.500000</td>\n",
       "      <td>NaN</td>\n",
       "      <td>NaN</td>\n",
       "      <td>NaN</td>\n",
       "      <td>NaN</td>\n",
       "      <td>NaN</td>\n",
       "      <td>NaN</td>\n",
       "      <td>NaN</td>\n",
       "      <td>166.736884</td>\n",
       "    </tr>\n",
       "    <tr>\n",
       "      <th>50%</th>\n",
       "      <td>33182.500000</td>\n",
       "      <td>NaN</td>\n",
       "      <td>NaN</td>\n",
       "      <td>NaN</td>\n",
       "      <td>NaN</td>\n",
       "      <td>NaN</td>\n",
       "      <td>NaN</td>\n",
       "      <td>NaN</td>\n",
       "      <td>196.793471</td>\n",
       "    </tr>\n",
       "    <tr>\n",
       "      <th>75%</th>\n",
       "      <td>33408.250000</td>\n",
       "      <td>NaN</td>\n",
       "      <td>NaN</td>\n",
       "      <td>NaN</td>\n",
       "      <td>NaN</td>\n",
       "      <td>NaN</td>\n",
       "      <td>NaN</td>\n",
       "      <td>NaN</td>\n",
       "      <td>256.968828</td>\n",
       "    </tr>\n",
       "    <tr>\n",
       "      <th>max</th>\n",
       "      <td>74354.000000</td>\n",
       "      <td>2.851711</td>\n",
       "      <td>2150.000000</td>\n",
       "      <td>2.898218</td>\n",
       "      <td>4200.000000</td>\n",
       "      <td>6.709120</td>\n",
       "      <td>4900.000000</td>\n",
       "      <td>3.200000e+06</td>\n",
       "      <td>1251.447757</td>\n",
       "    </tr>\n",
       "  </tbody>\n",
       "</table>\n",
       "</div>"
      ],
      "text/plain": [
       "            zipcode  rent_1br_sqft  rent_1br_monthly  rent_2br_sqft  \\\n",
       "count    176.000000      72.000000         76.000000     118.000000   \n",
       "mean   33470.732955       1.951816       1431.190789       1.657346   \n",
       "std     3103.291020       0.396685        305.964289       0.380903   \n",
       "min    33004.000000       1.314307        900.000000       1.142920   \n",
       "25%    33128.500000            NaN               NaN            NaN   \n",
       "50%    33182.500000            NaN               NaN            NaN   \n",
       "75%    33408.250000            NaN               NaN            NaN   \n",
       "max    74354.000000       2.851711       2150.000000       2.898218   \n",
       "\n",
       "       rent_2br_monthly  rent_sf_sqft  rent_sf_monthly      buy_home  \\\n",
       "count        119.000000    128.000000       115.000000  1.670000e+02   \n",
       "mean        1796.764706      1.524956      2294.956522  4.026794e+05   \n",
       "std          531.843467      0.598452       593.186764  3.058902e+05   \n",
       "min         1200.000000      0.988024      1500.000000  6.795000e+04   \n",
       "25%                 NaN           NaN              NaN           NaN   \n",
       "50%                 NaN           NaN              NaN           NaN   \n",
       "75%                 NaN           NaN              NaN           NaN   \n",
       "max         4200.000000      6.709120      4900.000000  3.200000e+06   \n",
       "\n",
       "       buy_home_sqft  \n",
       "count     176.000000  \n",
       "mean      234.769157  \n",
       "std       131.114387  \n",
       "min        62.418652  \n",
       "25%       166.736884  \n",
       "50%       196.793471  \n",
       "75%       256.968828  \n",
       "max      1251.447757  "
      ]
     },
     "execution_count": 273,
     "metadata": {},
     "output_type": "execute_result"
    }
   ],
   "source": [
    "df_clean.describe()"
   ]
  },
  {
   "cell_type": "code",
   "execution_count": null,
   "metadata": {
    "collapsed": true
   },
   "outputs": [],
   "source": []
  }
 ],
 "metadata": {
  "kernelspec": {
   "display_name": "Python 3",
   "language": "python",
   "name": "python3"
  },
  "language_info": {
   "codemirror_mode": {
    "name": "ipython",
    "version": 3
   },
   "file_extension": ".py",
   "mimetype": "text/x-python",
   "name": "python",
   "nbconvert_exporter": "python",
   "pygments_lexer": "ipython3",
   "version": "3.6.3"
  }
 },
 "nbformat": 4,
 "nbformat_minor": 2
}
